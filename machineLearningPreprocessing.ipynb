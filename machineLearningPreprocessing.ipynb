{
  "nbformat": 4,
  "nbformat_minor": 0,
  "metadata": {
    "colab": {
      "name": "Untitled0.ipynb",
      "provenance": [],
      "collapsed_sections": [],
      "authorship_tag": "ABX9TyMKsbkUgxCdx1vPYVIcuG+T",
      "include_colab_link": true
    },
    "kernelspec": {
      "name": "python3",
      "display_name": "Python 3"
    },
    "language_info": {
      "name": "python"
    }
  },
  "cells": [
    {
      "cell_type": "markdown",
      "metadata": {
        "id": "view-in-github",
        "colab_type": "text"
      },
      "source": [
        "<a href=\"https://colab.research.google.com/github/ttaahhaa/machine-learning/blob/main/machineLearningPreprocessing.ipynb\" target=\"_parent\"><img src=\"https://colab.research.google.com/assets/colab-badge.svg\" alt=\"Open In Colab\"/></a>"
      ]
    },
    {
      "cell_type": "code",
      "execution_count": 1,
      "metadata": {
        "id": "b2fJ7ymLVn5Y"
      },
      "outputs": [],
      "source": [
        "import numpy as np\n",
        "import matplotlib.pyplot as plt\n",
        "import pandas as pd"
      ]
    },
    {
      "cell_type": "code",
      "source": [
        "dataset = pd.read_csv('modified_kidney.csv')\n",
        "X = dataset.iloc[:, :-1].values\n",
        "y = dataset.iloc[:, -1].values"
      ],
      "metadata": {
        "id": "Abk7DGh5V52r"
      },
      "execution_count": 3,
      "outputs": []
    },
    {
      "cell_type": "code",
      "source": [
        "print(X)"
      ],
      "metadata": {
        "colab": {
          "base_uri": "https://localhost:8080/"
        },
        "id": "8HhEsM5ZWJHB",
        "outputId": "305be94e-8208-4aed-97eb-51f3cd248be0"
      },
      "execution_count": 4,
      "outputs": [
        {
          "output_type": "stream",
          "name": "stdout",
          "text": [
            "[[48 80 1.02 ... 'good' 'no' 'no']\n",
            " [7 50 1.02 ... 'good' 'no' 'no']\n",
            " [62 80 1.01 ... 'poor' 'no' 'yes']\n",
            " ...\n",
            " [12 80 1.02 ... 'good' 'no' 'no']\n",
            " [17 60 1.025 ... 'good' 'no' 'no']\n",
            " [58 80 1.025 ... 'good' 'no' 'no']]\n"
          ]
        }
      ]
    },
    {
      "cell_type": "code",
      "source": [
        "print(y)"
      ],
      "metadata": {
        "colab": {
          "base_uri": "https://localhost:8080/"
        },
        "id": "q8Z5amg_WJve",
        "outputId": "5ee1f2c2-c62a-4bb6-d63b-9e3e85184b17"
      },
      "execution_count": 5,
      "outputs": [
        {
          "output_type": "stream",
          "name": "stdout",
          "text": [
            "['ckd' 'ckd' 'ckd' 'ckd' 'ckd' 'ckd' 'ckd' 'ckd' 'ckd' 'ckd' 'ckd' 'ckd'\n",
            " 'ckd' 'ckd' 'ckd' 'ckd' 'ckd' 'ckd' 'ckd' 'ckd' 'ckd' 'ckd' 'ckd' 'ckd'\n",
            " 'ckd' 'ckd' 'ckd' 'ckd' 'ckd' 'ckd' 'ckd' 'ckd' 'ckd' 'ckd' 'ckd' 'ckd'\n",
            " 'ckd' 'ckd' 'ckd' 'ckd' 'ckd' 'ckd' 'ckd' 'ckd' 'ckd' 'ckd' 'ckd' 'ckd'\n",
            " 'ckd' 'ckd' 'ckd' 'ckd' 'ckd' 'ckd' 'ckd' 'ckd' 'ckd' 'ckd' 'ckd' 'ckd'\n",
            " 'ckd' 'ckd' 'ckd' 'ckd' 'ckd' 'ckd' 'ckd' 'ckd' 'ckd' 'ckd' 'ckd' 'ckd'\n",
            " 'ckd' 'ckd' 'ckd' 'ckd' 'ckd' 'ckd' 'ckd' 'ckd' 'ckd' 'ckd' 'ckd' 'ckd'\n",
            " 'ckd' 'ckd' 'ckd' 'ckd' 'ckd' 'ckd' 'ckd' 'ckd' 'ckd' 'ckd' 'ckd' 'ckd'\n",
            " 'ckd' 'ckd' 'ckd' 'ckd' 'ckd' 'ckd' 'ckd' 'ckd' 'ckd' 'ckd' 'ckd' 'ckd'\n",
            " 'ckd' 'ckd' 'ckd' 'ckd' 'ckd' 'ckd' 'ckd' 'ckd' 'ckd' 'ckd' 'ckd' 'ckd'\n",
            " 'ckd' 'ckd' 'ckd' 'ckd' 'ckd' 'ckd' 'ckd' 'ckd' 'ckd' 'ckd' 'ckd' 'ckd'\n",
            " 'ckd' 'ckd' 'ckd' 'ckd' 'ckd' 'ckd' 'ckd' 'ckd' 'ckd' 'ckd' 'ckd' 'ckd'\n",
            " 'ckd' 'ckd' 'ckd' 'ckd' 'ckd' 'ckd' 'ckd' 'ckd' 'ckd' 'ckd' 'ckd' 'ckd'\n",
            " 'ckd' 'ckd' 'ckd' 'ckd' 'ckd' 'ckd' 'ckd' 'ckd' 'ckd' 'ckd' 'ckd' 'ckd'\n",
            " 'ckd' 'ckd' 'ckd' 'ckd' 'ckd' 'ckd' 'ckd' 'ckd' 'ckd' 'ckd' 'ckd' 'ckd'\n",
            " 'ckd' 'ckd' 'ckd' 'ckd' 'ckd' 'ckd' 'ckd' 'ckd' 'ckd' 'ckd' 'ckd' 'ckd'\n",
            " 'ckd' 'ckd' 'ckd' 'ckd' 'ckd' 'ckd' 'ckd' 'ckd' 'ckd' 'ckd' 'ckd' 'ckd'\n",
            " 'ckd' 'ckd' 'ckd' 'ckd' 'ckd' 'ckd' 'ckd' 'ckd' 'ckd' 'ckd' 'ckd' 'ckd'\n",
            " 'ckd' 'ckd' 'ckd' 'ckd' 'ckd' 'ckd' 'ckd' 'ckd' 'ckd' 'ckd' 'ckd' 'ckd'\n",
            " 'ckd' 'ckd' 'ckd' 'ckd' 'ckd' 'ckd' 'ckd' 'ckd' 'ckd' 'ckd' 'ckd' 'ckd'\n",
            " 'ckd' 'ckd' 'ckd' 'ckd' 'ckd' 'ckd' 'ckd' 'ckd' 'ckd' 'ckd' 'notckd'\n",
            " 'notckd' 'notckd' 'notckd' 'notckd' 'notckd' 'notckd' 'notckd' 'notckd'\n",
            " 'notckd' 'notckd' 'notckd' 'notckd' 'notckd' 'notckd' 'notckd' 'notckd'\n",
            " 'notckd' 'notckd' 'notckd' 'notckd' 'notckd' 'notckd' 'notckd' 'notckd'\n",
            " 'notckd' 'notckd' 'notckd' 'notckd' 'notckd' 'notckd' 'notckd' 'notckd'\n",
            " 'notckd' 'notckd' 'notckd' 'notckd' 'notckd' 'notckd' 'notckd' 'notckd'\n",
            " 'notckd' 'notckd' 'notckd' 'notckd' 'notckd' 'notckd' 'notckd' 'notckd'\n",
            " 'notckd' 'notckd' 'notckd' 'notckd' 'notckd' 'notckd' 'notckd' 'notckd'\n",
            " 'notckd' 'notckd' 'notckd' 'notckd' 'notckd' 'notckd' 'notckd' 'notckd'\n",
            " 'notckd' 'notckd' 'notckd' 'notckd' 'notckd' 'notckd' 'notckd' 'notckd'\n",
            " 'notckd' 'notckd' 'notckd' 'notckd' 'notckd' 'notckd' 'notckd' 'notckd'\n",
            " 'notckd' 'notckd' 'notckd' 'notckd' 'notckd' 'notckd' 'notckd' 'notckd'\n",
            " 'notckd' 'notckd' 'notckd' 'notckd' 'notckd' 'notckd' 'notckd' 'notckd'\n",
            " 'notckd' 'notckd' 'notckd' 'notckd' 'notckd' 'notckd' 'notckd' 'notckd'\n",
            " 'notckd' 'notckd' 'notckd' 'notckd' 'notckd' 'notckd' 'notckd' 'notckd'\n",
            " 'notckd' 'notckd' 'notckd' 'notckd' 'notckd' 'notckd' 'notckd' 'notckd'\n",
            " 'notckd' 'notckd' 'notckd' 'notckd' 'notckd' 'notckd' 'notckd' 'notckd'\n",
            " 'notckd' 'notckd' 'notckd' 'notckd' 'notckd' 'notckd' 'notckd' 'notckd'\n",
            " 'notckd' 'notckd' 'notckd' 'notckd' 'notckd' 'notckd' 'notckd' 'notckd'\n",
            " 'notckd' 'notckd' 'notckd' 'notckd' 'notckd']\n"
          ]
        }
      ]
    },
    {
      "cell_type": "markdown",
      "source": [
        "<h1>Taking care of missing data</h1>"
      ],
      "metadata": {
        "id": "SUCSTxL_WRwX"
      }
    },
    {
      "cell_type": "code",
      "source": [
        "from sklearn.impute import SimpleImputer\n",
        "imputer = SimpleImputer(missing_values=np.nan, strategy='mean')\n",
        "imputer.fit(X[:, 0:5])\n",
        "X[:, 0:5] = imputer.transform(X[:, 0:5])\n",
        "imputer.fit(X[:, 9:18])\n",
        "X[:, 9:18] = imputer.transform(X[:, 9:18])"
      ],
      "metadata": {
        "id": "j-CbsDuCWSlV"
      },
      "execution_count": 6,
      "outputs": []
    },
    {
      "cell_type": "code",
      "source": [
        "X"
      ],
      "metadata": {
        "colab": {
          "base_uri": "https://localhost:8080/"
        },
        "id": "gWS2zHPKXh-K",
        "outputId": "0388638b-1a13-408c-a622-ed31f94ed63f"
      },
      "execution_count": 7,
      "outputs": [
        {
          "output_type": "execute_result",
          "data": {
            "text/plain": [
              "array([[48.0, 80.0, 1.02, ..., 'good', 'no', 'no'],\n",
              "       [7.0, 50.0, 1.02, ..., 'good', 'no', 'no'],\n",
              "       [62.0, 80.0, 1.01, ..., 'poor', 'no', 'yes'],\n",
              "       ...,\n",
              "       [12.0, 80.0, 1.02, ..., 'good', 'no', 'no'],\n",
              "       [17.0, 60.0, 1.025, ..., 'good', 'no', 'no'],\n",
              "       [58.0, 80.0, 1.025, ..., 'good', 'no', 'no']], dtype=object)"
            ]
          },
          "metadata": {},
          "execution_count": 7
        }
      ]
    },
    {
      "cell_type": "code",
      "source": [
        "y"
      ],
      "metadata": {
        "colab": {
          "base_uri": "https://localhost:8080/"
        },
        "id": "OQQAVbpyXivF",
        "outputId": "aee935bf-c2f8-46ad-cb15-597c503c3971"
      },
      "execution_count": 8,
      "outputs": [
        {
          "output_type": "execute_result",
          "data": {
            "text/plain": [
              "array(['ckd', 'ckd', 'ckd', 'ckd', 'ckd', 'ckd', 'ckd', 'ckd', 'ckd',\n",
              "       'ckd', 'ckd', 'ckd', 'ckd', 'ckd', 'ckd', 'ckd', 'ckd', 'ckd',\n",
              "       'ckd', 'ckd', 'ckd', 'ckd', 'ckd', 'ckd', 'ckd', 'ckd', 'ckd',\n",
              "       'ckd', 'ckd', 'ckd', 'ckd', 'ckd', 'ckd', 'ckd', 'ckd', 'ckd',\n",
              "       'ckd', 'ckd', 'ckd', 'ckd', 'ckd', 'ckd', 'ckd', 'ckd', 'ckd',\n",
              "       'ckd', 'ckd', 'ckd', 'ckd', 'ckd', 'ckd', 'ckd', 'ckd', 'ckd',\n",
              "       'ckd', 'ckd', 'ckd', 'ckd', 'ckd', 'ckd', 'ckd', 'ckd', 'ckd',\n",
              "       'ckd', 'ckd', 'ckd', 'ckd', 'ckd', 'ckd', 'ckd', 'ckd', 'ckd',\n",
              "       'ckd', 'ckd', 'ckd', 'ckd', 'ckd', 'ckd', 'ckd', 'ckd', 'ckd',\n",
              "       'ckd', 'ckd', 'ckd', 'ckd', 'ckd', 'ckd', 'ckd', 'ckd', 'ckd',\n",
              "       'ckd', 'ckd', 'ckd', 'ckd', 'ckd', 'ckd', 'ckd', 'ckd', 'ckd',\n",
              "       'ckd', 'ckd', 'ckd', 'ckd', 'ckd', 'ckd', 'ckd', 'ckd', 'ckd',\n",
              "       'ckd', 'ckd', 'ckd', 'ckd', 'ckd', 'ckd', 'ckd', 'ckd', 'ckd',\n",
              "       'ckd', 'ckd', 'ckd', 'ckd', 'ckd', 'ckd', 'ckd', 'ckd', 'ckd',\n",
              "       'ckd', 'ckd', 'ckd', 'ckd', 'ckd', 'ckd', 'ckd', 'ckd', 'ckd',\n",
              "       'ckd', 'ckd', 'ckd', 'ckd', 'ckd', 'ckd', 'ckd', 'ckd', 'ckd',\n",
              "       'ckd', 'ckd', 'ckd', 'ckd', 'ckd', 'ckd', 'ckd', 'ckd', 'ckd',\n",
              "       'ckd', 'ckd', 'ckd', 'ckd', 'ckd', 'ckd', 'ckd', 'ckd', 'ckd',\n",
              "       'ckd', 'ckd', 'ckd', 'ckd', 'ckd', 'ckd', 'ckd', 'ckd', 'ckd',\n",
              "       'ckd', 'ckd', 'ckd', 'ckd', 'ckd', 'ckd', 'ckd', 'ckd', 'ckd',\n",
              "       'ckd', 'ckd', 'ckd', 'ckd', 'ckd', 'ckd', 'ckd', 'ckd', 'ckd',\n",
              "       'ckd', 'ckd', 'ckd', 'ckd', 'ckd', 'ckd', 'ckd', 'ckd', 'ckd',\n",
              "       'ckd', 'ckd', 'ckd', 'ckd', 'ckd', 'ckd', 'ckd', 'ckd', 'ckd',\n",
              "       'ckd', 'ckd', 'ckd', 'ckd', 'ckd', 'ckd', 'ckd', 'ckd', 'ckd',\n",
              "       'ckd', 'ckd', 'ckd', 'ckd', 'ckd', 'ckd', 'ckd', 'ckd', 'ckd',\n",
              "       'ckd', 'ckd', 'ckd', 'ckd', 'ckd', 'ckd', 'ckd', 'ckd', 'ckd',\n",
              "       'ckd', 'ckd', 'ckd', 'ckd', 'ckd', 'ckd', 'ckd', 'ckd', 'ckd',\n",
              "       'ckd', 'ckd', 'ckd', 'ckd', 'ckd', 'ckd', 'ckd', 'notckd',\n",
              "       'notckd', 'notckd', 'notckd', 'notckd', 'notckd', 'notckd',\n",
              "       'notckd', 'notckd', 'notckd', 'notckd', 'notckd', 'notckd',\n",
              "       'notckd', 'notckd', 'notckd', 'notckd', 'notckd', 'notckd',\n",
              "       'notckd', 'notckd', 'notckd', 'notckd', 'notckd', 'notckd',\n",
              "       'notckd', 'notckd', 'notckd', 'notckd', 'notckd', 'notckd',\n",
              "       'notckd', 'notckd', 'notckd', 'notckd', 'notckd', 'notckd',\n",
              "       'notckd', 'notckd', 'notckd', 'notckd', 'notckd', 'notckd',\n",
              "       'notckd', 'notckd', 'notckd', 'notckd', 'notckd', 'notckd',\n",
              "       'notckd', 'notckd', 'notckd', 'notckd', 'notckd', 'notckd',\n",
              "       'notckd', 'notckd', 'notckd', 'notckd', 'notckd', 'notckd',\n",
              "       'notckd', 'notckd', 'notckd', 'notckd', 'notckd', 'notckd',\n",
              "       'notckd', 'notckd', 'notckd', 'notckd', 'notckd', 'notckd',\n",
              "       'notckd', 'notckd', 'notckd', 'notckd', 'notckd', 'notckd',\n",
              "       'notckd', 'notckd', 'notckd', 'notckd', 'notckd', 'notckd',\n",
              "       'notckd', 'notckd', 'notckd', 'notckd', 'notckd', 'notckd',\n",
              "       'notckd', 'notckd', 'notckd', 'notckd', 'notckd', 'notckd',\n",
              "       'notckd', 'notckd', 'notckd', 'notckd', 'notckd', 'notckd',\n",
              "       'notckd', 'notckd', 'notckd', 'notckd', 'notckd', 'notckd',\n",
              "       'notckd', 'notckd', 'notckd', 'notckd', 'notckd', 'notckd',\n",
              "       'notckd', 'notckd', 'notckd', 'notckd', 'notckd', 'notckd',\n",
              "       'notckd', 'notckd', 'notckd', 'notckd', 'notckd', 'notckd',\n",
              "       'notckd', 'notckd', 'notckd', 'notckd', 'notckd', 'notckd',\n",
              "       'notckd', 'notckd', 'notckd', 'notckd', 'notckd', 'notckd',\n",
              "       'notckd', 'notckd', 'notckd', 'notckd', 'notckd', 'notckd',\n",
              "       'notckd', 'notckd', 'notckd', 'notckd', 'notckd'], dtype=object)"
            ]
          },
          "metadata": {},
          "execution_count": 8
        }
      ]
    },
    {
      "cell_type": "markdown",
      "source": [
        "# Encoding categorical data"
      ],
      "metadata": {
        "id": "ila3wtoMXrte"
      }
    },
    {
      "cell_type": "markdown",
      "source": [
        "## Encoding the Independent Variable\n"
      ],
      "metadata": {
        "id": "BlQGctTzXxbl"
      }
    },
    {
      "cell_type": "code",
      "source": [
        "from sklearn.preprocessing import LabelEncoder\n",
        "le = LabelEncoder()\n",
        "X[:,5] = le.fit_transform(X[:,5])\n",
        "X[:,6] = le.fit_transform(X[:,6])\n",
        "X[:,7] = le.fit_transform(X[:,7])\n",
        "X[:,8] = le.fit_transform(X[:,8])\n",
        "X[:,18] = le.fit_transform(X[:,18])\n",
        "X[:,19] = le.fit_transform(X[:,19])\n",
        "X[:,20] = le.fit_transform(X[:,20])\n",
        "X[:,21] = le.fit_transform(X[:,21])\n",
        "X[:,22] = le.fit_transform(X[:,22])\n",
        "X[:,23] = le.fit_transform(X[:,23])"
      ],
      "metadata": {
        "id": "1yUhFgdGXu7x"
      },
      "execution_count": 12,
      "outputs": []
    },
    {
      "cell_type": "code",
      "source": [
        "from sklearn.preprocessing import LabelEncoder\n",
        "le = LabelEncoder()\n",
        "y = le.fit_transform(y)"
      ],
      "metadata": {
        "id": "lF9WZU_KFQ5B"
      },
      "execution_count": 17,
      "outputs": []
    },
    {
      "cell_type": "code",
      "source": [
        "X"
      ],
      "metadata": {
        "colab": {
          "base_uri": "https://localhost:8080/"
        },
        "id": "VtphQcPHCp_d",
        "outputId": "31deec7a-a546-420e-89f9-665296238605"
      },
      "execution_count": 18,
      "outputs": [
        {
          "output_type": "execute_result",
          "data": {
            "text/plain": [
              "array([[48.0, 80.0, 1.02, ..., 0, 0, 0],\n",
              "       [7.0, 50.0, 1.02, ..., 0, 0, 0],\n",
              "       [62.0, 80.0, 1.01, ..., 1, 0, 1],\n",
              "       ...,\n",
              "       [12.0, 80.0, 1.02, ..., 0, 0, 0],\n",
              "       [17.0, 60.0, 1.025, ..., 0, 0, 0],\n",
              "       [58.0, 80.0, 1.025, ..., 0, 0, 0]], dtype=object)"
            ]
          },
          "metadata": {},
          "execution_count": 18
        }
      ]
    },
    {
      "cell_type": "code",
      "source": [
        "y"
      ],
      "metadata": {
        "colab": {
          "base_uri": "https://localhost:8080/"
        },
        "id": "YdPh09fzF_pR",
        "outputId": "a93e196b-6450-4656-b6a2-8c007e3a858f"
      },
      "execution_count": 19,
      "outputs": [
        {
          "output_type": "execute_result",
          "data": {
            "text/plain": [
              "array([0, 0, 0, 0, 0, 0, 0, 0, 0, 0, 0, 0, 0, 0, 0, 0, 0, 0, 0, 0, 0, 0,\n",
              "       0, 0, 0, 0, 0, 0, 0, 0, 0, 0, 0, 0, 0, 0, 0, 0, 0, 0, 0, 0, 0, 0,\n",
              "       0, 0, 0, 0, 0, 0, 0, 0, 0, 0, 0, 0, 0, 0, 0, 0, 0, 0, 0, 0, 0, 0,\n",
              "       0, 0, 0, 0, 0, 0, 0, 0, 0, 0, 0, 0, 0, 0, 0, 0, 0, 0, 0, 0, 0, 0,\n",
              "       0, 0, 0, 0, 0, 0, 0, 0, 0, 0, 0, 0, 0, 0, 0, 0, 0, 0, 0, 0, 0, 0,\n",
              "       0, 0, 0, 0, 0, 0, 0, 0, 0, 0, 0, 0, 0, 0, 0, 0, 0, 0, 0, 0, 0, 0,\n",
              "       0, 0, 0, 0, 0, 0, 0, 0, 0, 0, 0, 0, 0, 0, 0, 0, 0, 0, 0, 0, 0, 0,\n",
              "       0, 0, 0, 0, 0, 0, 0, 0, 0, 0, 0, 0, 0, 0, 0, 0, 0, 0, 0, 0, 0, 0,\n",
              "       0, 0, 0, 0, 0, 0, 0, 0, 0, 0, 0, 0, 0, 0, 0, 0, 0, 0, 0, 0, 0, 0,\n",
              "       0, 0, 0, 0, 0, 0, 0, 0, 0, 0, 0, 0, 0, 0, 0, 0, 0, 0, 0, 0, 0, 0,\n",
              "       0, 0, 0, 0, 0, 0, 0, 0, 0, 0, 0, 0, 0, 0, 0, 0, 0, 0, 0, 0, 0, 0,\n",
              "       0, 0, 0, 0, 0, 0, 0, 0, 1, 1, 1, 1, 1, 1, 1, 1, 1, 1, 1, 1, 1, 1,\n",
              "       1, 1, 1, 1, 1, 1, 1, 1, 1, 1, 1, 1, 1, 1, 1, 1, 1, 1, 1, 1, 1, 1,\n",
              "       1, 1, 1, 1, 1, 1, 1, 1, 1, 1, 1, 1, 1, 1, 1, 1, 1, 1, 1, 1, 1, 1,\n",
              "       1, 1, 1, 1, 1, 1, 1, 1, 1, 1, 1, 1, 1, 1, 1, 1, 1, 1, 1, 1, 1, 1,\n",
              "       1, 1, 1, 1, 1, 1, 1, 1, 1, 1, 1, 1, 1, 1, 1, 1, 1, 1, 1, 1, 1, 1,\n",
              "       1, 1, 1, 1, 1, 1, 1, 1, 1, 1, 1, 1, 1, 1, 1, 1, 1, 1, 1, 1, 1, 1,\n",
              "       1, 1, 1, 1, 1, 1, 1, 1, 1, 1, 1, 1, 1, 1, 1, 1, 1, 1, 1, 1, 1, 1,\n",
              "       1, 1, 1, 1])"
            ]
          },
          "metadata": {},
          "execution_count": 19
        }
      ]
    },
    {
      "cell_type": "markdown",
      "metadata": {
        "id": "qb_vcgm3qZKW"
      },
      "source": [
        "## Splitting the dataset into the Training set and Test set"
      ]
    },
    {
      "cell_type": "code",
      "execution_count": 20,
      "metadata": {
        "id": "pXgA6CzlqbCl"
      },
      "outputs": [],
      "source": [
        "from sklearn.model_selection import train_test_split\n",
        "X_train, X_test, y_train, y_test = train_test_split(X, y, test_size = 0.2, random_state = 1)"
      ]
    },
    {
      "cell_type": "code",
      "execution_count": 21,
      "metadata": {
        "colab": {
          "base_uri": "https://localhost:8080/"
        },
        "id": "pSMHiIsWreQY",
        "outputId": "2e68efd7-0682-4d58-80b8-4b4e06013c45"
      },
      "outputs": [
        {
          "output_type": "stream",
          "name": "stdout",
          "text": [
            "[0 0 1 0 0 0 1 0 1 0 0 1 1 1 0 1 1 1 1 0 0 1 0 0 0 1 0 0 1 1 0 1 0 0 0 0 1\n",
            " 0 0 1 0 0 1 0 1 0 0 0 1 1 1 1 1 1 1 1 0 0 0 1 0 0 0 0 0 0 0 0 0 0 1 0 0 0\n",
            " 0 1 0 0 0 0 0 0 1 0 1 0 0 0 0 0 1 1 1 1 0 0 1 0 0 0 0 0 0 1 0 0 0 0 1 0 1\n",
            " 0 0 0 1 0 0 1 0 0 1 0 1 1 1 0 0 0 0 0 1 0 1 1 1 0 1 0 1 0 0 0 0 0 0 1 1 1\n",
            " 1 1 1 0 0 0 1 0 0 0 0 1 0 0 0 0 0 0 0 1 0 0 1 0 0 0 0 1 0 0 1 1 1 0 0 0 1\n",
            " 1 1 0 0 0 0 1 0 1 0 0 0 0 0 1 0 0 0 1 0 0 0 0 0 0 0 1 0 1 0 0 0 0 1 0 1 0\n",
            " 1 0 0 0 1 1 0 1 0 0 1 1 1 0 0 1 1 0 0 0 1 0 0 0 1 1 1 0 0 0 1 0 1 0 0 1 1\n",
            " 0 0 1 0 0 0 0 0 1 0 1 1 0 0 0 1 0 1 0 1 0 0 0 1 0 1 0 1 0 1 0 1 1 0 0 0 1\n",
            " 0 0 0 0 0 1 1 1 1 0 1 0 0 0 0 1 0 0 1 1 0 1 0 0]\n"
          ]
        }
      ],
      "source": [
        "print(y_train)"
      ]
    },
    {
      "cell_type": "code",
      "source": [
        "from sklearn.preprocessing import StandardScaler\n",
        "sc = StandardScaler()\n",
        "X_train[:, 3:] = sc.fit_transform(X_train[:, 3:])\n",
        "X_test[:, 3:] = sc.transform(X_test[:, 3:])"
      ],
      "metadata": {
        "id": "KJJ6ELQBGOFN"
      },
      "execution_count": null,
      "outputs": []
    }
  ]
}